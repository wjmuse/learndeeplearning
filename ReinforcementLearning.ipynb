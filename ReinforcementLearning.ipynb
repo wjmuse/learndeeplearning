{
 "cells": [
  {
   "cell_type": "code",
   "execution_count": 30,
   "metadata": {
    "collapsed": true
   },
   "outputs": [],
   "source": [
    "#imports, nothing to see here\n",
    "import numpy as np\n",
    "from scipy import stats\n",
    "import random\n",
    "import matplotlib.pyplot as plt\n",
    "%matplotlib inline"
   ]
  },
  {
   "cell_type": "markdown",
   "metadata": {},
   "source": [
    "## 有 10 台拉霸機可供選擇，找出最高勝率的玩法\n",
    "\n",
    "這裡的設定是，以 greedy 的方式做每次下注的挑選決策，但保留 1/10 的隨機挑選機會。以確保有時可以嘗試到一些未知機器的可能性。"
   ]
  },
  {
   "cell_type": "code",
   "execution_count": 31,
   "metadata": {
    "collapsed": true
   },
   "outputs": [],
   "source": [
    "n = 10\n",
    "arms = np.random.rand(n)\n",
    "eps = 0.1"
   ]
  },
  {
   "cell_type": "markdown",
   "metadata": {},
   "source": [
    "## 定義 Reward Function\n",
    "\n",
    "\\begin{equation*}\n",
    "Q_k(a)  = \\dfrac{R_1 + R_2 + ... + R_k}{k_a}\n",
    "\\end{equation*}\n",
    "\n",
    "其中 a 代表每次的 action，也就是每一次下注的選擇，也因此演算法追求的目標也單純：\n",
    "\n",
    "\\begin{equation*}\n",
    "Q_k(A_k)=max_a(Q_k(a))\n",
    "\\end{equation*}\n",
    " "
   ]
  },
  {
   "cell_type": "code",
   "execution_count": 32,
   "metadata": {
    "collapsed": true
   },
   "outputs": [],
   "source": [
    "def reward(prob):\n",
    "    reward = 0;\n",
    "    for i in range(10):\n",
    "        if random.random() < prob:\n",
    "            reward += 1\n",
    "    return reward"
   ]
  },
  {
   "cell_type": "markdown",
   "metadata": {},
   "source": [
    "## initialize memory array; has 1 row defaulted to random action index\n",
    "\n",
    "`av` 這個 array 隨者每次 play，會一直增長下去，紀錄著每次的 [choose, reward]\n",
    "\n",
    "> 這裡可以看出 reinforcement 的精髓，就是每次選擇都會參考先前學習的結果"
   ]
  },
  {
   "cell_type": "code",
   "execution_count": 33,
   "metadata": {
    "collapsed": true
   },
   "outputs": [],
   "source": [
    "av = np.array([np.random.randint(0,(n+1)), 0]).reshape(1,2) #av = action-value"
   ]
  },
  {
   "cell_type": "markdown",
   "metadata": {},
   "source": [
    "## 計算出本次 play 的最佳選擇"
   ]
  },
  {
   "cell_type": "code",
   "execution_count": 34,
   "metadata": {
    "collapsed": true
   },
   "outputs": [],
   "source": [
    "#greedy method to select best arm based on memory array (historical results)\n",
    "def bestArm(a):\n",
    "    bestArm = 0 #just default to 0\n",
    "    bestMean = 0\n",
    "    for u in a:\n",
    "        avg = np.mean(a[np.where(a[:,0] == u[0])][:, 1]) #calc mean reward for each action\n",
    "        if bestMean < avg:\n",
    "            bestMean = avg\n",
    "            bestArm = u[0]\n",
    "    return bestArm"
   ]
  },
  {
   "cell_type": "code",
   "execution_count": 35,
   "metadata": {
    "collapsed": false
   },
   "outputs": [
    {
     "data": {
      "image/png": "[encoded data removed]",
      "text/plain": [
       "<matplotlib.figure.Figure at 0x10b5ea910>"
      ]
     },
     "metadata": {},
     "output_type": "display_data"
    }
   ],
   "source": [
    "plt.xlabel(\"Plays\")\n",
    "plt.ylabel(\"Avg Reward\")\n",
    "for i in range(500):\n",
    "    if random.random() > eps: #greedy selection\n",
    "        choice = bestArm(av)\n",
    "        thisAV = np.array([[choice, reward(arms[choice])]])\n",
    "        av = np.concatenate((av, thisAV), axis=0)\n",
    "    else: #random arm selection\n",
    "        choice = np.where(arms == np.random.choice(arms))[0][0]\n",
    "        thisAV = np.array([[choice, reward(arms[choice])]]) #choice, reward \n",
    "        av = np.concatenate((av, thisAV), axis=0) #add to our action-value memory array\n",
    "    #calculate the percentage the correct arm is chosen (you can plot this instead of reward)\n",
    "    percCorrect = 100*(len(av[np.where(av[:,0] == np.argmax(arms))])/len(av))\n",
    "    #calculate the mean reward\n",
    "    runningMean = np.mean(av[:,1])\n",
    "    plt.scatter(i, runningMean)"
   ]
  },
  {
   "cell_type": "markdown",
   "metadata": {},
   "source": [
    "## 增進一點效能\n",
    "\n",
    "同樣的方法，改進前面算法中，每次 play 都需要被記錄，而且每次都需要掃過重頭到尾的紀錄去搜尋的缺點\n",
    "\n",
    " - 改成只記錄每台機器的最新平均分數，以及目前為止被選擇的次數 \n",
    " - 使用 np.average，讓計算平均時同樣考慮到每台機器被選擇的次數"
   ]
  },
  {
   "cell_type": "code",
   "execution_count": 57,
   "metadata": {
    "collapsed": true
   },
   "outputs": [],
   "source": [
    "n = 10\n",
    "arms = np.random.rand(n)\n",
    "eps = 0.1\n",
    "av = np.ones(n) #initialize action-value array\n",
    "counts = np.zeros(n) #stores counts of how many times we've taken a particular action"
   ]
  },
  {
   "cell_type": "code",
   "execution_count": 58,
   "metadata": {
    "collapsed": false
   },
   "outputs": [
    {
     "data": {
      "image/png": "[encoded data removed]",
      "text/plain": [
       "<matplotlib.figure.Figure at 0x112622090>"
      ]
     },
     "metadata": {},
     "output_type": "display_data"
    }
   ],
   "source": [
    "#our bestArm function is much simpler now\n",
    "def bestArm(a):\n",
    "    return np.argmax(a) #returns index of element with greatest value\n",
    "\n",
    "plt.xlabel(\"Plays\")\n",
    "plt.ylabel(\"Mean Reward\")\n",
    "for i in range(500):\n",
    "    if random.random() > eps:\n",
    "        choice = bestArm(av)\n",
    "        counts[choice] += 1\n",
    "        k = counts[choice]\n",
    "        rwd =  reward(arms[choice])\n",
    "        old_avg = av[choice]\n",
    "        new_avg = old_avg + (1/k)*(rwd - old_avg) #update running avg\n",
    "        av[choice] = new_avg\n",
    "    else:\n",
    "        choice = np.where(arms == np.random.choice(arms))[0][0] #randomly choose an arm (returns index)\n",
    "        counts[choice] += 1\n",
    "        k = counts[choice]\n",
    "        rwd =  reward(arms[choice])\n",
    "        old_avg = av[choice]\n",
    "        new_avg = old_avg + (1/k)*(rwd - old_avg) #update running avg\n",
    "        av[choice] = new_avg\n",
    "    #have to use np.average and supply the weights to get a weighted average\n",
    "    runningMean = np.average(av, weights=np.array([counts[j]/np.sum(counts) for j in range(len(counts))]))\n",
    "    plt.scatter(i, runningMean)"
   ]
  },
  {
   "cell_type": "markdown",
   "metadata": {},
   "source": [
    "## Softmax Action Selection\n",
    "\n",
    "\n",
    "在處理某些問題的過程中(ex. 醫療)，使用上述隨機探索的方式可能不太恰當，畢竟事情的嚴重性等級不同。因此使用 Softmax 給予個選項一個合理的機率值，一方面可以達到探索的效果，另一方面可以去避免犯下不該犯的錯誤。\n",
    "\n",
    "*** Softmax 公式 ***\n",
    "\n",
    "\n",
    "\\begin{equation*}\n",
    "\\dfrac{e^{Q_k(a)/\\tau}}{\\sum\\limits_{i=1}^n e^{Q_k(i)/\\tau}}\n",
    "\\end{equation*}\n"
   ]
  },
  {
   "cell_type": "code",
   "execution_count": 71,
   "metadata": {
    "collapsed": true
   },
   "outputs": [],
   "source": [
    "n = 10\n",
    "arms = np.random.rand(n)\n",
    "\n",
    "av = np.ones(n) #initialize action-value array, stores running reward mean\n",
    "counts = np.zeros(n) #stores counts of how many times we've taken a particular action\n",
    "#stores our softmax-generated probability ranks for each action\n",
    "av_softmax = np.zeros(n)\n",
    "av_softmax[:] = 0.1 #initialize each action to have equal probability\n",
    "tau = 1.12 #tau was selected by trial and error"
   ]
  },
  {
   "cell_type": "code",
   "execution_count": 72,
   "metadata": {
    "collapsed": true
   },
   "outputs": [],
   "source": [
    "def softmax(av):\n",
    "    probs = np.zeros(n)\n",
    "    for i in range(n):\n",
    "        softm = ( np.exp(av[i] / tau) / np.sum( np.exp(av[:] / tau) ) )\n",
    "        probs[i] = softm\n",
    "    return probs"
   ]
  },
  {
   "cell_type": "code",
   "execution_count": 73,
   "metadata": {
    "collapsed": false
   },
   "outputs": [
    {
     "data": {
      "image/png": "[encoded data removed]",
      "text/plain": [
       "<matplotlib.figure.Figure at 0x10b65bc10>"
      ]
     },
     "metadata": {},
     "output_type": "display_data"
    }
   ],
   "source": [
    "plt.xlabel(\"Plays\")\n",
    "plt.ylabel(\"Mean Reward\")\n",
    "for i in range(500):\n",
    "    #select random arm using weighted probability distribution\n",
    "    choice = np.where(arms == np.random.choice(arms, p=av_softmax))[0][0]\n",
    "    counts[choice] += 1\n",
    "    k = counts[choice]\n",
    "    rwd =  reward(arms[choice])\n",
    "    old_avg = av[choice]\n",
    "    new_avg = old_avg + (1/k)*(rwd - old_avg)\n",
    "    av[choice] = new_avg\n",
    "    av_softmax = softmax(av) #update softmax probabilities for next play\n",
    "\n",
    "    runningMean = np.average(av, weights=np.array([counts[j]/np.sum(counts) for j in range(len(counts))]))\n",
    "    plt.scatter(i, runningMean)"
   ]
  },
  {
   "cell_type": "code",
   "execution_count": null,
   "metadata": {
    "collapsed": true
   },
   "outputs": [],
   "source": []
  }
 ],
 "metadata": {
  "kernelspec": {
   "display_name": "Python 2",
   "language": "python",
   "name": "python2"
  },
  "language_info": {
   "codemirror_mode": {
    "name": "ipython",
    "version": 2
   },
   "file_extension": ".py",
   "mimetype": "text/x-python",
   "name": "python",
   "nbconvert_exporter": "python",
   "pygments_lexer": "ipython2",
   "version": "2.7.11"
  }
 },
 "nbformat": 4,
 "nbformat_minor": 0
}
